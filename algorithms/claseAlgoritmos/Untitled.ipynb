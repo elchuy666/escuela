{
 "cells": [
  {
   "cell_type": "code",
   "execution_count": 8,
   "id": "1da3ab9d-095e-468b-96bc-06a8bfeed32d",
   "metadata": {},
   "outputs": [
    {
     "name": "stdin",
     "output_type": "stream",
     "text": [
      "dime una frase.  pedro piedras\n"
     ]
    },
    {
     "name": "stdout",
     "output_type": "stream",
     "text": [
      "[('p', 2), ('e', 2), ('d', 2), ('r', 2), ('o', 1), (' ', 1), ('i', 1), ('a', 1), ('s', 1)]\n"
     ]
    }
   ],
   "source": [
    "frase = input(\"dime una frase. \")\n",
    "#se debe de hacer recorrer la frase y por cada letra encontrada agregarlo al diccionario\n",
    "def agruegarDiccionario(frase):\n",
    "    diccionario  = {}\n",
    "    minusculas = frase.lower()\n",
    "    for i in minusculas:\n",
    "        if i == \"\":\n",
    "            continue\n",
    "        if i in diccionario:\n",
    "            diccionario[i] +=1\n",
    "        else:\n",
    "            diccionario[i] =1\n",
    "    return list(diccionario.items())\n",
    "\n",
    "print(agruegarDiccionario(frase))\n"
   ]
  },
  {
   "cell_type": "code",
   "execution_count": null,
   "id": "8988d334-99fc-41a9-a5c1-039e933ca3df",
   "metadata": {},
   "outputs": [],
   "source": []
  }
 ],
 "metadata": {
  "kernelspec": {
   "display_name": "Python 3 (ipykernel)",
   "language": "python",
   "name": "python3"
  },
  "language_info": {
   "codemirror_mode": {
    "name": "ipython",
    "version": 3
   },
   "file_extension": ".py",
   "mimetype": "text/x-python",
   "name": "python",
   "nbconvert_exporter": "python",
   "pygments_lexer": "ipython3",
   "version": "3.12.0"
  }
 },
 "nbformat": 4,
 "nbformat_minor": 5
}
